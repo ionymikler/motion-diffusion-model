{
 "cells": [
  {
   "cell_type": "code",
   "execution_count": 26,
   "metadata": {},
   "outputs": [],
   "source": [
    "import numpy as np\n",
    "from numpy.typing import ArrayLike\n",
    "import torch\n",
    "import os\n"
   ]
  },
  {
   "cell_type": "code",
   "execution_count": 14,
   "metadata": {},
   "outputs": [],
   "source": [
    "# want to check the std and mean shape for KIT and compare it to one datapoint.\n",
    "# Why? To avoid having to calculate the same for motion-x\n",
    "\n",
    "KIT_PATHS = {\n",
    "    'motions_path': os.path.join('./KIT-ML/new_joint_vecs'),\n",
    "    \"labels_path\" : os.path.join('./KIT-ML/texts')\n",
    "}\n",
    "\n",
    "MOX_PATHS ={\n",
    "    'motions_path': os.path.join('./Motion-X/datasets/motion_data/smplx_322/GRAB/GRAB_motion/'),\n",
    "    \"labels_path\" : os.path.join('./Motion-X/datasets/semantic_labels/GRAB'),\n",
    "    \"motion_faces_path\" : os.path.join('./Motion-X/datasets/body_and_face_motion/GRAB/joints')\n",
    "}\n",
    "\n",
    "def get_motionx_seq_data(seq_name):\n",
    "    seq_motion_path = os.path.join(MOX_PATHS['motion_faces_path'], seq_name+\".npy\")\n",
    "    seq_label_path = os.path.join(MOX_PATHS['labels_path'], seq_name+'.txt') \n",
    "\n",
    "    motion = torch.tensor(np.load(seq_motion_path)).float()\n",
    "    with open(seq_label_path, 'r') as f:\n",
    "        seq_labels = f.readlines()\n",
    "    return motion, seq_labels\n",
    "\n",
    "def get_kit_seq_data(seq_name:str):\n",
    "    seq_motion_path = os.path.join(KIT_PATHS['motions_path'], seq_name+\".npy\")\n",
    "    seq_label_path = os.path.join(KIT_PATHS['labels_path'], seq_name+'.txt') \n",
    "\n",
    "    motion = torch.tensor(np.load(seq_motion_path)).float()\n",
    "    with open(seq_label_path, 'r') as f:\n",
    "        seq_labels = f.readlines()\n",
    "    return motion, seq_labels\n",
    "\n",
    "def drop_shapes_from_motion_arr(motion_arr: ArrayLike) -> ArrayLike:\n",
    "    if isinstance(motion_arr, torch.Tensor):\n",
    "        new_motion_arr = motion_arr.numpy()\n",
    "    # Slice the array to exclude 'face_shape' and 'betas'\n",
    "    new_motion_arr = np.concatenate((motion_arr[:, :209], motion_arr[:, 309:312]), axis=1)\n",
    "    \n",
    "    return new_motion_arr\n"
   ]
  },
  {
   "cell_type": "code",
   "execution_count": 33,
   "metadata": {},
   "outputs": [
    {
     "name": "stdout",
     "output_type": "stream",
     "text": [
      "shape kit datapoint torch.Size([47, 251])\n",
      "shape mox datapoint (279, 212)\n"
     ]
    }
   ],
   "source": [
    "m_kit, l_kit = get_kit_seq_data('00001')\n",
    "m_mox, l_mox = get_motionx_seq_data('s1/airplane_fly_1')\n",
    "\n",
    "# drop shape features\n",
    "m_mox = drop_shapes_from_motion_arr(m_mox)\n",
    "\n",
    "print(f\"shape kit datapoint {m_kit.shape}\")\n",
    "print(f\"shape mox datapoint {m_mox.shape}\")"
   ]
  },
  {
   "cell_type": "code",
   "execution_count": 16,
   "metadata": {},
   "outputs": [
    {
     "name": "stdout",
     "output_type": "stream",
     "text": [
      "torch.Size([251])\n",
      "torch.Size([251])\n"
     ]
    }
   ],
   "source": [
    "mean_kit = torch.tensor(np.load('./KIT-ML/Mean.npy')).float()\n",
    "std_kit = torch.tensor(np.load('./KIT-ML/Std.npy')).float()\n",
    "print(mean_kit.shape)\n",
    "print(std_kit.shape)"
   ]
  },
  {
   "cell_type": "code",
   "execution_count": 36,
   "metadata": {},
   "outputs": [
    {
     "name": "stdout",
     "output_type": "stream",
     "text": [
      "(212,)\n",
      "(212,)\n"
     ]
    }
   ],
   "source": [
    "mean_mox = np.mean(m_mox,axis=0)\n",
    "std_mox = np.std(m_mox,axis=0)\n",
    "\n",
    "print(mean_mox.shape)\n",
    "print(std_mox.shape)"
   ]
  },
  {
   "cell_type": "code",
   "execution_count": 37,
   "metadata": {},
   "outputs": [
    {
     "name": "stdout",
     "output_type": "stream",
     "text": [
      "(array([], dtype=int64),)\n"
     ]
    }
   ],
   "source": [
    "w = np.where(std_mox==0)\n",
    "print(w)"
   ]
  },
  {
   "cell_type": "code",
   "execution_count": 39,
   "metadata": {},
   "outputs": [],
   "source": [
    "np.save('Motion-X/Mean.npy',mean_mox)\n",
    "np.save('Motion-X/Std.npy',std_mox)"
   ]
  }
 ],
 "metadata": {
  "kernelspec": {
   "display_name": "mdm",
   "language": "python",
   "name": "python3"
  },
  "language_info": {
   "codemirror_mode": {
    "name": "ipython",
    "version": 3
   },
   "file_extension": ".py",
   "mimetype": "text/x-python",
   "name": "python",
   "nbconvert_exporter": "python",
   "pygments_lexer": "ipython3",
   "version": "3.7.13"
  }
 },
 "nbformat": 4,
 "nbformat_minor": 2
}
